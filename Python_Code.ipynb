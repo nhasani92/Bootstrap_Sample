{
  "nbformat": 4,
  "nbformat_minor": 0,
  "metadata": {
    "colab": {
      "provenance": [],
      "authorship_tag": "ABX9TyMWn6VHE1ZvkD4NK5P7Ks0P",
      "include_colab_link": true
    },
    "kernelspec": {
      "name": "python3",
      "display_name": "Python 3"
    },
    "language_info": {
      "name": "python"
    }
  },
  "cells": [
    {
      "cell_type": "markdown",
      "metadata": {
        "id": "view-in-github",
        "colab_type": "text"
      },
      "source": [
        "<a href=\"https://colab.research.google.com/github/nhasani92/Bootstrap_sample/blob/main/Python_Code.ipynb\" target=\"_parent\"><img src=\"https://colab.research.google.com/assets/colab-badge.svg\" alt=\"Open In Colab\"/></a>"
      ]
    },
    {
      "cell_type": "markdown",
      "source": [
        "## Band Name Generator"
      ],
      "metadata": {
        "id": "ZbnMRGqP7tE7"
      }
    },
    {
      "cell_type": "code",
      "source": [
        "print(\"Welcome to the brand new genetor\")\n",
        "city = input(\"which city did you belong\\n\")\n",
        "print(city)\n",
        "pet = input(\"what is the name of pet\\n\")\n",
        "print(\"your band name could be\" \" \" + city + \" \" + pet)"
      ],
      "metadata": {
        "colab": {
          "base_uri": "https://localhost:8080/"
        },
        "id": "jXe8SCLW7p4b",
        "outputId": "32597787-6d9f-45bd-eed1-663547a593e5"
      },
      "execution_count": 7,
      "outputs": [
        {
          "output_type": "stream",
          "name": "stdout",
          "text": [
            "Welcome to the brand new genetor\n",
            "which city did you belong\n",
            "Hyderabad\n",
            "Hyderabad\n",
            "what is the name of pet\n",
            "Enola\n",
            "your band name could be Hyderabad Enola\n"
          ]
        }
      ]
    },
    {
      "cell_type": "markdown",
      "source": [],
      "metadata": {
        "id": "LIZpJbqPof5S"
      }
    },
    {
      "cell_type": "code",
      "source": [
        "num_char = len(input(\"what is your name ?\"))\n",
        "new_num_char = str(num_char)\n",
        "print(type(len(input(\"what is your name ?\"))))"
      ],
      "metadata": {
        "colab": {
          "base_uri": "https://localhost:8080/"
        },
        "id": "kZGlTePN9p2h",
        "outputId": "97945e6f-0e6b-4fb1-e807-1e6f807c02f2"
      },
      "execution_count": 10,
      "outputs": [
        {
          "output_type": "stream",
          "name": "stdout",
          "text": [
            "what is your name ?Nusrat\n",
            "what is your name ?Shadab\n",
            "<class 'int'>\n"
          ]
        }
      ]
    },
    {
      "cell_type": "markdown",
      "source": [
        "## Adds the digits in a 2 digit number"
      ],
      "metadata": {
        "id": "RzzdIlwKCSL5"
      }
    },
    {
      "cell_type": "code",
      "source": [
        "# 🚨 Don't change the code below 👇\n",
        "two_digit_number = input(\"Type a two digit number: \")\n",
        "# 🚨 Don't change the code above 👆\n",
        "\n",
        "####################################\n",
        "#Write your code below this line 👇\n",
        "first_digit = two_digit_number[0]\n",
        "second_digit = two_digit_number[1]\n",
        "result = int(first_digit) + int(second_digit)\n",
        "print(result)"
      ],
      "metadata": {
        "colab": {
          "base_uri": "https://localhost:8080/"
        },
        "id": "lEWkBtYeaE93",
        "outputId": "37a591ed-23a9-491b-854a-26507925d12a"
      },
      "execution_count": 15,
      "outputs": [
        {
          "output_type": "stream",
          "name": "stdout",
          "text": [
            "Type a two digit number: 23\n",
            "5\n"
          ]
        }
      ]
    },
    {
      "cell_type": "code",
      "source": [
        "tdn = input(\"Give the number: \")\n",
        "f = tdn[0]\n",
        "s = tdn[1]\n",
        "r = int(f) + int(s)\n",
        "print(r)"
      ],
      "metadata": {
        "colab": {
          "base_uri": "https://localhost:8080/"
        },
        "id": "_BlU4Yc7a1ZG",
        "outputId": "a1a3baba-c3de-4834-e536-d571d528fb92"
      },
      "execution_count": 16,
      "outputs": [
        {
          "output_type": "stream",
          "name": "stdout",
          "text": [
            "Give the number: 76\n",
            "13\n"
          ]
        }
      ]
    },
    {
      "cell_type": "markdown",
      "source": [
        "## Body Mass Index (BMI) from a user's weight and height."
      ],
      "metadata": {
        "id": "_aigq28doScR"
      }
    },
    {
      "cell_type": "code",
      "source": [
        "# 🚨 Don't change the code below 👇\n",
        "height = input(\"enter your height in m: \")\n",
        "weight = input(\"enter your weight in kg: \")\n",
        "# 🚨 Don't change the code above 👆\n",
        "\n",
        "#Write your code below this line 👇\n",
        "height_person = height[0]\n",
        "weight_person = weight[1]\n",
        "\n",
        "BMI = int(weight) / float(height) ** 2\n",
        "bmi_as_int = int(BMI)\n",
        "print(bmi_as_int)"
      ],
      "metadata": {
        "colab": {
          "base_uri": "https://localhost:8080/"
        },
        "id": "OreRepXPoYWd",
        "outputId": "d5435ebb-3731-4cc3-eb8c-5bf1c49e2132"
      },
      "execution_count": 1,
      "outputs": [
        {
          "output_type": "stream",
          "name": "stdout",
          "text": [
            "enter your height in m: 1.89\n",
            "enter your weight in kg: 76\n",
            "21\n"
          ]
        }
      ]
    },
    {
      "cell_type": "code",
      "source": [],
      "metadata": {
        "id": "YgcsknjyosnX"
      },
      "execution_count": null,
      "outputs": []
    }
  ]
}