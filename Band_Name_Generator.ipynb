{
  "nbformat": 4,
  "nbformat_minor": 0,
  "metadata": {
    "colab": {
      "provenance": [],
      "authorship_tag": "ABX9TyNUO1dEY5d/2VI7hHdlZjNE",
      "include_colab_link": true
    },
    "kernelspec": {
      "name": "python3",
      "display_name": "Python 3"
    },
    "language_info": {
      "name": "python"
    }
  },
  "cells": [
    {
      "cell_type": "markdown",
      "metadata": {
        "id": "view-in-github",
        "colab_type": "text"
      },
      "source": [
        "<a href=\"https://colab.research.google.com/github/nhasani92/Bootstrap_sample/blob/main/Band_Name_Generator.ipynb\" target=\"_parent\"><img src=\"https://colab.research.google.com/assets/colab-badge.svg\" alt=\"Open In Colab\"/></a>"
      ]
    },
    {
      "cell_type": "code",
      "execution_count": 5,
      "metadata": {
        "colab": {
          "base_uri": "https://localhost:8080/"
        },
        "id": "s-VYOdfVsxI3",
        "outputId": "ca28e96b-73e6-4692-f655-9cbb584eed3b"
      },
      "outputs": [
        {
          "output_type": "stream",
          "name": "stdout",
          "text": [
            "Welcome to the brand new genetor\n",
            "which city did you belong\n",
            "Hyderbad\n",
            "Hyderbad\n",
            "what is the name of pet\n",
            "Enola\n",
            "your band name could be Hyderbad Enola\n"
          ]
        }
      ],
      "source": [
        "print(\"Welcome to the brand new genetor\")\n",
        "city = input(\"which city did you belong\\n\")\n",
        "print(city)\n",
        "pet = input(\"what is the name of pet\\n\")\n",
        "print(\"your band name could be\" \" \" + city + \" \" + pet)"
      ]
    }
  ]
}